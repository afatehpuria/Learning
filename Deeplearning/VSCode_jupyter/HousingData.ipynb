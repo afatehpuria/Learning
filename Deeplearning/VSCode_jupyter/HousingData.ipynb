{
 "cells": [
  {
   "cell_type": "markdown",
   "metadata": {},
   "source": [
    "# Housing Data\n",
    "In this notebook I will attempt to model housing data based on the lessons learnt in week 1 and 2 of the courese [Supervised Machine Learning: Regression and Classification](https://www.coursera.org/learn/machine-learning/home/week/2)"
   ]
  }
 ],
 "metadata": {
  "kernelspec": {
   "display_name": "Python 3",
   "language": "python",
   "name": "python3"
  },
  "language_info": {
   "name": "python",
   "version": "3.12.5"
  }
 },
 "nbformat": 4,
 "nbformat_minor": 2
}
